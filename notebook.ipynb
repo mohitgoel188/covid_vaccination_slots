{
 "cells": [
  {
   "cell_type": "code",
   "execution_count": 6,
   "id": "c6fbb99e",
   "metadata": {
    "ExecuteTime": {
     "end_time": "2021-05-19T13:57:17.014484Z",
     "start_time": "2021-05-19T13:57:17.003005Z"
    },
    "init_cell": true
   },
   "outputs": [],
   "source": [
    "import pandas as pd\n",
    "import datetime\n",
    "import requests\n",
    "from ipywidgets import interactive, widgets, VBox, HBox\n",
    "pd.options.display.max_rows = None"
   ]
  },
  {
   "cell_type": "code",
   "execution_count": 25,
   "id": "eaa63200",
   "metadata": {
    "ExecuteTime": {
     "end_time": "2021-05-19T14:14:05.979258Z",
     "start_time": "2021-05-19T14:14:05.947366Z"
    },
    "code_folding": [
     13
    ],
    "init_cell": true
   },
   "outputs": [],
   "source": [
    "base_url = 'https://cdn-api.co-vin.in/api'\n",
    "generate_otp_url = f'{base_url}/v2/auth/public/generateOTP'\n",
    "confirm_otp_url = f'{base_url}/v2/auth/public/confirmOTP'\n",
    "states_url = f'{base_url}/v2/admin/location/states'\n",
    "districts_url = f'{base_url}/v2/admin/location/districts/{{state_id}}'\n",
    "find_by_district_url = f'{base_url}/v2/appointment/sessions/public/findByDistrict?district_id={{district_id}}&date={{date}}'\n",
    "calender_by_district_url = f'{base_url}/v2/appointment/sessions/public/calendarByDistrict?district_id={{district_id}}&date={{date}}'\n",
    "headers = {\n",
    "#     Host: 'cdn-api.co-vin.in',\n",
    "    'User-Agent': 'Mozilla/5.0 (Windows NT 10.0; Win64; x64) AppleWebKit/537.36 (KHTML, like Gecko) Chrome/90.0.4430.93 Safari/537.36'\n",
    "    }\n",
    "all_cols = ['center_id', 'name', 'address', 'state_name', 'district_name',\n",
    "            'block_name', 'pincode', 'lat', 'long', 'from', 'to', 'fee_type',\n",
    "            'session_id', 'date', 'available_capacity', 'min_age_limit', 'vaccine',\n",
    "            'slots', 'available_capacity_dose1', 'available_capacity_dose2']\n",
    "display_cols = ['block_name', 'district_name', 'name', 'address', \n",
    "                'pincode', 'fee_type', 'date', 'min_age_limit', 'vaccine', \n",
    "                'available_capacity_dose1', 'available_capacity_dose2']\n",
    "date_today = datetime.date.today()\n",
    "STATE_ID = None\n",
    "RESULT_DF = None\n",
    "\n",
    "\n",
    "def get_state_ids():\n",
    "    res = requests.get(states_url, headers=headers)\n",
    "    if res.status_code == 200:\n",
    "        states_df = pd.DataFrame(res.json()['states'], columns=['state_id', 'state_name'])\n",
    "        return states_df\n",
    "    print(res.status_code, res.text)\n",
    "    return pd.DataFrame(columns=['state_id', 'state_name'])\n",
    "\n",
    "def get_slots_df(state_id, date=date_today.strftime(\"%d-%m-%Y\"), **kwargs):\n",
    "    '''\n",
    "    state_id: int\n",
    "    date: basestring\n",
    "        format- \"%d-%m-%Y\"\n",
    "    kwargs: further filters    \n",
    "        vaccine: basestring\n",
    "            'COVAXIN', 'COVISHIELD'\n",
    "        min_age_limit: int\n",
    "            18, 45\n",
    "        fee_type: basestring\n",
    "            Free, Paid\n",
    "        \n",
    "    '''\n",
    "    res = requests.get(districts_url.format(state_id=state_id), headers=headers)\n",
    "    if res.status_code != 200:    \n",
    "        print(res.status_code, res.text)\n",
    "        return pd.DataFrame(columns=['district_id', 'district_name']), pd.DataFrame(columns=all_cols)\n",
    "    district_df = pd.DataFrame(res.json()['districts'], columns=['district_id', 'district_name'])\n",
    "    df_list = []\n",
    "    for district_id in district_df['district_id']:\n",
    "        res = requests.get(calender_by_district_url.format(district_id=district_id, date=date), \n",
    "                           headers=headers)\n",
    "        if res.status_code != 200:\n",
    "            print(res.status_code, res.text)\n",
    "        centres_df = pd.DataFrame(res.json()['centers'], \n",
    "                                  columns=['center_id', 'name', 'address', 'state_name', 'district_name',\n",
    "                                           'block_name', 'pincode', 'lat', 'long', 'from', 'to', 'fee_type',\n",
    "                                           'sessions'])\n",
    "        decoupled_df = centres_df.explode('sessions')\n",
    "        centre_slots_df = pd.concat([decoupled_df.drop(['sessions'], axis=1), \n",
    "                                     decoupled_df['sessions'].apply(pd.Series)], axis=1)\n",
    "        df_list.append(centre_slots_df)\n",
    "    combined_df = pd.concat(df_list)\n",
    "    query_string = ' & '.join([f\"{col_name} == '{value}'\" if type(value)==str else f\"{col_name} == {value}\"\n",
    "                               if col_name in combined_df.columns else '' \n",
    "                               for col_name, value in kwargs.items()])\n",
    "    if query_string:\n",
    "        combined_df = combined_df.query(query_string)\n",
    "    return district_df, combined_df"
   ]
  },
  {
   "cell_type": "code",
   "execution_count": 26,
   "id": "5184b2da",
   "metadata": {
    "ExecuteTime": {
     "end_time": "2021-05-19T14:14:09.895998Z",
     "start_time": "2021-05-19T14:14:07.658969Z"
    },
    "code_folding": [],
    "init_cell": true,
    "scrolled": false
   },
   "outputs": [
    {
     "data": {
      "application/vnd.jupyter.widget-view+json": {
       "model_id": "7228b3380db1457ea68517d861e8d5a7",
       "version_major": 2,
       "version_minor": 0
      },
      "text/plain": [
       "VBox(children=(interactive(children=(Dropdown(description='State :', index=9, options=(('Andaman and Nicobar I…"
      ]
     },
     "metadata": {},
     "output_type": "display_data"
    }
   ],
   "source": [
    "states_df = get_state_ids()\n",
    "if not states_df.empty:\n",
    "    state_options = list(states_df.apply(lambda ser: (ser['state_name'], ser['state_id']), axis=1))\n",
    "else:\n",
    "    state_options = [('Delhi', 9)]\n",
    "min_age_limit_options = ['All', 18, 45]\n",
    "fee_type_options = ['All', 'Free', 'Paid']\n",
    "vaccine_options = ['All', 'COVISHIELD', 'COVAXIN']\n",
    "state_widget = widgets.Dropdown(options=state_options,\n",
    "                                value=9,\n",
    "                                description='State :',\n",
    "                                disabled=False)    \n",
    "min_age_limit_widget = widgets.Dropdown(options=min_age_limit_options,\n",
    "                                value='All',\n",
    "                                description='Min Age :',\n",
    "                                disabled=False)  \n",
    "fee_type_widget = widgets.Dropdown(options=fee_type_options,\n",
    "                                value='All',\n",
    "                                description='Fee Type :',\n",
    "                                disabled=False)\n",
    "vaccine_widget = widgets.Dropdown(options=vaccine_options,\n",
    "                                value='All',\n",
    "                                description='Vaccine :',\n",
    "                                disabled=False)\n",
    "avail_dose_1_widget = widgets.IntSlider(value=0, min=0, max=20, step=1,\n",
    "                                        description='Dose 1 Slots:', disabled=False,\n",
    "                                        continuous_update=False, orientation='horizontal',\n",
    "                                        readout=True, readout_format='d')\n",
    "avail_dose_2_widget = widgets.IntSlider(value=0, min=0, max=20, step=1,\n",
    "                                        description='Dose 2 Slots:', disabled=False,\n",
    "                                        continuous_update=False, orientation='horizontal',\n",
    "                                        readout=True, readout_format='d')\n",
    "\n",
    "report_output = widgets.Output()\n",
    "\n",
    "def filter_function(state_id, avail_dose_1, avail_dose_2, **kwargs):\n",
    "    global STATE_ID\n",
    "    global RESULT_DF\n",
    "    global display_cols\n",
    "    print(f'State_id: {state_id},', \n",
    "          ', '.join([f\"{key} : {value}\" for key, value in kwargs.items()]),\n",
    "         f'Dose1 Slots: {avail_dose_1},', \n",
    "         f'Dose2 Slots: {avail_dose_2},', )\n",
    "    result_df = RESULT_DF\n",
    "    if state_id:\n",
    "        if STATE_ID is None or STATE_ID != state_id:\n",
    "            district_df, result_df = get_slots_df(state_id=state_id)#, vaccine='COVAXIN', min_age_limit=18)\n",
    "            RESULT_DF = result_df\n",
    "            STATE_ID = state_id\n",
    "    query_string = ' and '.join([f\"{col_name} == '{value}'\" if type(value)==str else f\"{col_name} == {value}\"\n",
    "                               for col_name, value in kwargs.items() if value != 'All'])\n",
    "    if query_string:\n",
    "        filtered_df = result_df.query(query_string)\n",
    "    else:\n",
    "        filtered_df = result_df.copy()\n",
    "    if avail_dose_1:\n",
    "        filtered_df = filtered_df[filtered_df['available_capacity_dose1']>=avail_dose_1]\n",
    "    if avail_dose_2:\n",
    "        filtered_df = filtered_df[filtered_df['available_capacity_dose2']>=avail_dose_2]\n",
    "    with report_output:\n",
    "        report_output.clear_output()\n",
    "        display(filtered_df[display_cols])\n",
    "   \n",
    "inter = interactive(filter_function, state_id=state_widget, fee_type=fee_type_widget, \n",
    "                    min_age_limit=min_age_limit_widget, vaccine=vaccine_widget, avail_dose_1=avail_dose_1_widget,\n",
    "                    avail_dose_2 = avail_dose_2_widget) \n",
    "VBox([inter, report_output])\n"
   ]
  },
  {
   "cell_type": "code",
   "execution_count": null,
   "id": "9d564113",
   "metadata": {},
   "outputs": [],
   "source": []
  }
 ],
 "metadata": {
  "celltoolbar": "Initialization Cell",
  "kernelspec": {
   "display_name": "Python 3",
   "language": "python",
   "name": "python3"
  },
  "language_info": {
   "codemirror_mode": {
    "name": "ipython",
    "version": 3
   },
   "file_extension": ".py",
   "mimetype": "text/x-python",
   "name": "python",
   "nbconvert_exporter": "python",
   "pygments_lexer": "ipython3",
   "version": "3.7.7"
  },
  "toc": {
   "base_numbering": 1,
   "nav_menu": {},
   "number_sections": true,
   "sideBar": true,
   "skip_h1_title": false,
   "title_cell": "Table of Contents",
   "title_sidebar": "Contents",
   "toc_cell": false,
   "toc_position": {},
   "toc_section_display": true,
   "toc_window_display": false
  },
  "varInspector": {
   "cols": {
    "lenName": 16,
    "lenType": 16,
    "lenVar": 40
   },
   "kernels_config": {
    "python": {
     "delete_cmd_postfix": "",
     "delete_cmd_prefix": "del ",
     "library": "var_list.py",
     "varRefreshCmd": "print(var_dic_list())"
    },
    "r": {
     "delete_cmd_postfix": ") ",
     "delete_cmd_prefix": "rm(",
     "library": "var_list.r",
     "varRefreshCmd": "cat(var_dic_list()) "
    }
   },
   "types_to_exclude": [
    "module",
    "function",
    "builtin_function_or_method",
    "instance",
    "_Feature"
   ],
   "window_display": false
  }
 },
 "nbformat": 4,
 "nbformat_minor": 5
}
